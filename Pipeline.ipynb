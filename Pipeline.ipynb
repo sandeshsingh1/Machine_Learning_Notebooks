{
 "cells": [
  {
   "cell_type": "code",
   "execution_count": null,
   "id": "6dfaee2f-b96b-4808-b1d2-876c384ac00d",
   "metadata": {},
   "outputs": [],
   "source": [
    "!pip install torch torchvision torchaudio\n",
    "\n",
    "from torchvision import models, transforms\n",
    "from PIL import Image\n",
    "import torch, joblib, numpy as np\n",
    "import torch.nn as nn\n",
    "\n",
    "# Load AlexNet and extract feature\n",
    "model = models.alexnet(pretrained=True)\n",
    "feature_model = nn.Sequential(\n",
    "    model.features,\n",
    "    nn.AdaptiveAvgPool2d((6,6)),\n",
    "    nn.Flatten(),\n",
    "    model.classifier[0], model.classifier[1], model.classifier[2],\n",
    "    model.classifier[3], model.classifier[4], model.classifier[5]\n",
    ").eval()\n",
    "\n",
    "tfm = transforms.Compose([\n",
    "    transforms.Resize((227,227)),\n",
    "    transforms.ToTensor(),\n",
    "    transforms.Normalize([0.485,0.456,0.406],[0.229,0.224,0.225])\n",
    "])\n",
    "\n",
    "img = Image.open(\"sample.jpg\").convert('RGB')\n",
    "x = tfm(img).unsqueeze(0)\n",
    "feat = feature_model(x).detach().numpy()\n",
    "\n",
    "svm = joblib.load(\"../models/ecoc_svm.pkl\")['ecoc']\n",
    "class_names = joblib.load(\"../models/ecoc_svm.pkl\")['class_names']\n",
    "pred = svm.predict(feat)[0]\n",
    "print(\"Predicted:\", class_names[int(pred)])\n"
   ]
  },
  {
   "cell_type": "code",
   "execution_count": null,
   "id": "29574d85-1dd0-4afa-ae59-7d7c2ea2f0df",
   "metadata": {},
   "outputs": [],
   "source": []
  },
  {
   "cell_type": "code",
   "execution_count": null,
   "id": "08c545d6-253a-4298-8348-b2086916378d",
   "metadata": {},
   "outputs": [],
   "source": []
  }
 ],
 "metadata": {
  "kernelspec": {
   "display_name": "Python [conda env:base] *",
   "language": "python",
   "name": "conda-base-py"
  },
  "language_info": {
   "codemirror_mode": {
    "name": "ipython",
    "version": 3
   },
   "file_extension": ".py",
   "mimetype": "text/x-python",
   "name": "python",
   "nbconvert_exporter": "python",
   "pygments_lexer": "ipython3",
   "version": "3.13.5"
  }
 },
 "nbformat": 4,
 "nbformat_minor": 5
}
