{
 "cells": [
  {
   "cell_type": "code",
   "execution_count": 5,
   "id": "cea637ad-a383-4f31-bff9-09d80198a611",
   "metadata": {},
   "outputs": [
    {
     "name": "stdout",
     "output_type": "stream",
     "text": [
      "🔍 Best Hyperparameters Found:\n",
      "  imputer__n_neighbors: 7\n",
      "  imputer__weights: distance\n",
      "  model__C: 1\n",
      "  model__penalty: l2\n",
      "  model__solver: liblinear\n",
      "\n",
      "✅ Best Cross-Validation Accuracy: 0.7120\n",
      "\n",
      "🎯 Test Accuracy using best parameters: 0.6816\n"
     ]
    }
   ],
   "source": [
    "# ==========================\n",
    "# 🧠 Import Libraries\n",
    "# ==========================\n",
    "import numpy as np\n",
    "import pandas as pd\n",
    "from sklearn.model_selection import train_test_split, GridSearchCV\n",
    "from sklearn.impute import KNNImputer\n",
    "from sklearn.linear_model import LogisticRegression\n",
    "from sklearn.metrics import accuracy_score\n",
    "from sklearn.pipeline import Pipeline\n",
    "\n",
    "# ==========================\n",
    "# 📥 Load Data\n",
    "# ==========================\n",
    "df = pd.read_csv('train.csv')[['Age','Pclass','Fare','Survived']]\n",
    "\n",
    "# Split into features and target\n",
    "X = df.drop(columns=['Survived'])\n",
    "y = df['Survived']\n",
    "\n",
    "# Train-test split\n",
    "X_train, X_test, y_train, y_test = train_test_split(X, y, test_size=0.2, random_state=2)\n",
    "\n",
    "# ==========================\n",
    "# ⚙️ Create Pipeline (KNNImputer + LogisticRegression)\n",
    "# ==========================\n",
    "pipe = Pipeline([\n",
    "    ('imputer', KNNImputer()),\n",
    "    ('model', LogisticRegression(max_iter=1000))\n",
    "])\n",
    "\n",
    "# ==========================\n",
    "# 🔍 Define Hyperparameter Grid for both Imputer & Model\n",
    "# ==========================\n",
    "param_grid = {\n",
    "    'imputer__n_neighbors': [7 ],\n",
    "    'imputer__weights': ['uniform', 'distance'],\n",
    "    'model__C': [0.01, 0.1, 1, 10],\n",
    "    'model__solver': ['liblinear', 'lbfgs'],\n",
    "    'model__penalty': ['l2']\n",
    "}\n",
    "\n",
    "# ==========================\n",
    "# 🚀 Apply Grid Search CV\n",
    "# ==========================\n",
    "grid = GridSearchCV(\n",
    "    estimator=pipe,\n",
    "    param_grid=param_grid,\n",
    "    scoring='accuracy',\n",
    "    cv=5,\n",
    "    n_jobs=-1\n",
    ")\n",
    "\n",
    "grid.fit(X_train, y_train)\n",
    "\n",
    "# ==========================\n",
    "# 📊 Display Best Results\n",
    "# ==========================\n",
    "print(\"🔍 Best Hyperparameters Found:\")\n",
    "for param, value in grid.best_params_.items():\n",
    "    print(f\"  {param}: {value}\")\n",
    "\n",
    "print(f\"\\n✅ Best Cross-Validation Accuracy: {grid.best_score_:.4f}\")\n",
    "\n",
    "# ==========================\n",
    "# 🎯 Evaluate on Test Set\n",
    "# ==========================\n",
    "best_model = grid.best_estimator_\n",
    "y_pred = best_model.predict(X_test)\n",
    "\n",
    "test_acc = accuracy_score(y_test, y_pred)\n",
    "print(f\"\\n🎯 Test Accuracy using best parameters: {test_acc:.4f}\")\n"
   ]
  },
  {
   "cell_type": "code",
   "execution_count": 4,
   "id": "3aaa5137-e477-4955-bc3a-4018947131b6",
   "metadata": {},
   "outputs": [
    {
     "name": "stdout",
     "output_type": "stream",
     "text": [
      "n_neighbors=1: CV mean=0.7121, Test=0.6872\n",
      "n_neighbors=3: CV mean=0.7078, Test=0.7151\n",
      "n_neighbors=5: CV mean=0.7092, Test=0.7095\n",
      "n_neighbors=7: CV mean=0.7078, Test=0.7039\n"
     ]
    }
   ],
   "source": [
    "from sklearn.model_selection import cross_val_score\n",
    "\n",
    "for k in [1, 3, 5, 7]:\n",
    "    knn = KNNImputer(n_neighbors=k, weights='distance')\n",
    "    X_train_trf = knn.fit_transform(X_train)\n",
    "    X_test_trf = knn.transform(X_test)\n",
    "    \n",
    "    lr = LogisticRegression(max_iter=1000)\n",
    "    lr.fit(X_train_trf, y_train)\n",
    "    scores = cross_val_score(lr, X_train_trf, y_train, cv=5)\n",
    "    \n",
    "    print(f\"n_neighbors={k}: CV mean={scores.mean():.4f}, Test={accuracy_score(y_test, lr.predict(X_test_trf)):.4f}\")\n"
   ]
  },
  {
   "cell_type": "code",
   "execution_count": null,
   "id": "dd4a8c73-d358-49fa-8931-11ff9495b79f",
   "metadata": {},
   "outputs": [],
   "source": []
  }
 ],
 "metadata": {
  "kernelspec": {
   "display_name": "Python 3 (ipykernel)",
   "language": "python",
   "name": "python3"
  },
  "language_info": {
   "codemirror_mode": {
    "name": "ipython",
    "version": 3
   },
   "file_extension": ".py",
   "mimetype": "text/x-python",
   "name": "python",
   "nbconvert_exporter": "python",
   "pygments_lexer": "ipython3",
   "version": "3.13.7"
  }
 },
 "nbformat": 4,
 "nbformat_minor": 5
}
